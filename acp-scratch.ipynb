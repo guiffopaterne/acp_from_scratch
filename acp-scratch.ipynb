{
 "cells": [
  {
   "cell_type": "code",
   "execution_count": 1,
   "id": "6c7701ba",
   "metadata": {},
   "outputs": [],
   "source": [
    "import numpy as np\n",
    "import pandas as pd"
   ]
  },
  {
   "cell_type": "markdown",
   "id": "1ddb8781",
   "metadata": {},
   "source": [
    "# Entree des donnes"
   ]
  },
  {
   "cell_type": "code",
   "execution_count": 18,
   "id": "55e60994",
   "metadata": {},
   "outputs": [],
   "source": [
    "df = pd.read_csv('orange.csv',sep=\";\", header=0,index_col=0)\n",
    "df = df.select_dtypes(exclude=['object'])"
   ]
  },
  {
   "cell_type": "code",
   "execution_count": 21,
   "id": "af8ff0ad",
   "metadata": {},
   "outputs": [
    {
     "data": {
      "text/plain": [
       "array([[  2.82,   2.53,   1.66,   3.46,   3.15,   2.97,   2.6 ,  25.32,\n",
       "         27.36,  36.45,  89.95,   3.59,  13.98,   0.84,  43.44],\n",
       "       [  2.76,   2.82,   1.91,   3.23,   2.55,   2.08,   3.32,  17.33,\n",
       "         20.  ,  44.15,  82.55,   3.89,  11.14,   0.67,  32.7 ],\n",
       "       [  2.83,   2.88,   4.  ,   3.45,   2.42,   1.76,   3.38,  23.65,\n",
       "         25.65,  52.12, 102.22,   3.85,  11.51,   0.69,  37.  ],\n",
       "       [  2.76,   2.59,   1.66,   3.37,   3.05,   2.56,   2.8 ,  32.42,\n",
       "         34.54,  22.92,  90.71,   3.6 ,  15.75,   0.95,  36.6 ],\n",
       "       [  3.2 ,   3.02,   3.69,   3.12,   2.33,   1.97,   3.34,  22.7 ,\n",
       "         25.32,  45.8 ,  94.87,   3.82,  11.8 ,   0.71,  39.5 ],\n",
       "       [  3.07,   2.73,   3.34,   3.54,   3.31,   2.63,   2.9 ,  27.16,\n",
       "         29.48,  38.94,  96.51,   3.68,  12.21,   0.74,  27.  ]])"
      ]
     },
     "execution_count": 21,
     "metadata": {},
     "output_type": "execute_result"
    }
   ],
   "source": [
    "X = df.to_numpy()\n",
    "X"
   ]
  },
  {
   "cell_type": "code",
   "execution_count": 22,
   "id": "4e765044",
   "metadata": {},
   "outputs": [],
   "source": [
    "mean_vector = np.mean(X,axis=0)\n",
    "ecart_type_vector = np.std(X,axis=0)"
   ]
  },
  {
   "cell_type": "code",
   "execution_count": 25,
   "id": "d5033ab7",
   "metadata": {},
   "outputs": [],
   "source": [
    "def z_score(x):\n",
    "    mean_vector = np.mean(x,axis=0)\n",
    "    ecart_type_vector = np.std(x,axis=0)\n",
    "    return(x-mean_vector)/ecart_type_vector\n",
    "def centre_matrix(x):\n",
    "    mean_vector = np.mean(x,axis=0)\n",
    "    return(x-mean_vector)"
   ]
  },
  {
   "cell_type": "code",
   "execution_count": 9,
   "id": "db1ac8b4",
   "metadata": {},
   "outputs": [],
   "source": [
    "def min_max(x):\n",
    "    return (x-np.min(x,axis=0))/(np.min(x,axis=0)-np.max(x,axis=0))"
   ]
  },
  {
   "cell_type": "code",
   "execution_count": 23,
   "id": "3930b273",
   "metadata": {},
   "outputs": [
    {
     "data": {
      "text/plain": [
       "array([[-0.51619419, -1.38330715, -1.06188892,  0.68104634,  0.91325605,\n",
       "         1.51984078, -1.5040422 ,  0.12175045,  0.06838537, -0.39456601,\n",
       "        -0.46636129, -1.23408928,  0.76842503,  0.74501401,  1.42923918],\n",
       "       [-0.8735594 ,  0.34831475, -0.80905822, -0.91190951, -0.65981658,\n",
       "        -0.58819812,  0.86729441, -1.62576955, -1.60006649,  0.4462527 ,\n",
       "        -1.67655657,  1.26182162, -0.97976756, -0.98206392, -0.64508903],\n",
       "       [-0.45663332,  0.70658135,  1.30460638,  0.61178739, -1.00064898,\n",
       "        -1.34614469,  1.06490579, -0.24350091, -0.31925766,  1.31655465,\n",
       "         1.54027332,  0.9290335 , -0.75201007, -0.77887828,  0.18541481],\n",
       "       [-0.8735594 , -1.02504055, -1.06188892,  0.05771579,  0.65107728,\n",
       "         0.54872174, -0.84533759,  1.67461554,  1.6960327 , -1.87200458,\n",
       "        -0.34207096, -1.15089225,  1.85796759,  1.86253502,  0.10815864],\n",
       "       [ 1.74711881,  1.54253675,  0.99109632, -1.67375795, -1.23660987,\n",
       "        -0.84874225,  0.93316487, -0.45127863, -0.39406596,  0.62642813,\n",
       "         0.33825503,  0.67944241, -0.57349745, -0.57569264,  0.66826589],\n",
       "       [ 0.97282752, -0.18908515,  0.63713335,  1.23511794,  1.33274209,\n",
       "         0.71452255, -0.51598528,  0.5241831 ,  0.54897205, -0.12266489,\n",
       "         0.60646047, -0.48531601, -0.32111753, -0.27091418, -1.74598948]])"
      ]
     },
     "execution_count": 23,
     "metadata": {},
     "output_type": "execute_result"
    }
   ],
   "source": [
    "min_max(X)\n",
    "z_score(X)"
   ]
  },
  {
   "cell_type": "code",
   "execution_count": 27,
   "id": "7ff9304e",
   "metadata": {},
   "outputs": [],
   "source": [
    "matrice_centre =centre_matrix(X)\n",
    "matrice_centre_reduit=z_score(X)\n",
    "matrice_covariance = (1/X.shape[0])*np.dot(matrice_centre.T,matrice_centre)\n",
    "matrice_correlation = (1/X.shape[0])*np.dot(matrice_centre_reduit.T,matrice_centre_reduit)"
   ]
  },
  {
   "cell_type": "code",
   "execution_count": 28,
   "id": "16c49d27",
   "metadata": {},
   "outputs": [
    {
     "data": {
      "text/plain": [
       "array([[ 1.        ,  0.58226907,  0.65636358, -0.26790383, -0.14513828,\n",
       "        -0.15384998,  0.2332185 , -0.04547063, -0.02129559,  0.30384692,\n",
       "         0.41362285,  0.13847275, -0.35579729, -0.34456836, -0.14739961],\n",
       "       [ 0.58226907,  1.        ,  0.7676219 , -0.61699781, -0.83784599,\n",
       "        -0.8775382 ,  0.92309965, -0.56975482, -0.55461204,  0.75664308,\n",
       "         0.31786911,  0.85376925, -0.77733435, -0.77816109, -0.13677696],\n",
       "       [ 0.65636358,  0.7676219 ,  1.        , -0.02007904, -0.46820605,\n",
       "        -0.64380421,  0.62974607, -0.1705263 , -0.17272726,  0.71768068,\n",
       "         0.82433117,  0.51465053, -0.62505188, -0.6222809 , -0.21980834],\n",
       "       [-0.26790383, -0.61699781, -0.02007904,  1.        ,  0.72748916,\n",
       "         0.51378162, -0.56861744,  0.48598542,  0.45764596, -0.19637453,\n",
       "         0.38612071, -0.53763957,  0.27120568,  0.27714857, -0.26561674],\n",
       "       [-0.14513828, -0.83784599, -0.46820605,  0.72748916,  1.        ,\n",
       "         0.91370376, -0.90057401,  0.62908643,  0.62681016, -0.68819022,\n",
       "        -0.11561819, -0.85426214,  0.59860667,  0.61187618, -0.2562586 ],\n",
       "       [-0.15384998, -0.8775382 , -0.64380421,  0.51378162,  0.91370376,\n",
       "         1.        , -0.97568626,  0.5242602 ,  0.52203689, -0.71349467,\n",
       "        -0.30625694, -0.90389903,  0.67221808,  0.67924792,  0.0911126 ],\n",
       "       [ 0.2332185 ,  0.92309965,  0.62974607, -0.56861744, -0.90057401,\n",
       "        -0.97568626,  1.        , -0.6599413 , -0.65254546,  0.76880215,\n",
       "         0.19658223,  0.96619442, -0.79106601, -0.79560039, -0.17976538],\n",
       "       [-0.04547063, -0.56975482, -0.1705263 ,  0.48598542,  0.62908643,\n",
       "         0.5242602 , -0.6599413 ,  1.        ,  0.99886716, -0.76266756,\n",
       "         0.31437811, -0.81936949,  0.84523527,  0.8522987 ,  0.02365997],\n",
       "       [-0.02129559, -0.55461204, -0.17272726,  0.45764596,  0.62681016,\n",
       "         0.52203689, -0.65254546,  0.99886716,  1.        , -0.77508521,\n",
       "         0.29640619, -0.81435236,  0.84353538,  0.85133922,  0.00538827],\n",
       "       [ 0.30384692,  0.75664308,  0.71768068, -0.19637453, -0.68819022,\n",
       "        -0.71349467,  0.76880215, -0.76266756, -0.77508521,  1.        ,\n",
       "         0.37359265,  0.8187955 , -0.9214116 , -0.92861903, -0.02956241],\n",
       "       [ 0.41362285,  0.31786911,  0.82433117,  0.38612071, -0.11561819,\n",
       "        -0.30625694,  0.19658223,  0.31437811,  0.29640619,  0.37359265,\n",
       "         1.        ,  0.03669472, -0.14971988, -0.14946571, -0.02820855],\n",
       "       [ 0.13847275,  0.85376925,  0.51465053, -0.53763957, -0.85426214,\n",
       "        -0.90389903,  0.96619442, -0.81936949, -0.81435236,  0.8187955 ,\n",
       "         0.03669472,  1.        , -0.87589584, -0.88090924, -0.20476893],\n",
       "       [-0.35579729, -0.77733435, -0.62505188,  0.27120568,  0.59860667,\n",
       "         0.67221808, -0.79106601,  0.84523527,  0.84353538, -0.9214116 ,\n",
       "        -0.14971988, -0.87589584,  1.        ,  0.99968156,  0.32820683],\n",
       "       [-0.34456836, -0.77816109, -0.6222809 ,  0.27714857,  0.61187618,\n",
       "         0.67924792, -0.79560039,  0.8522987 ,  0.85133922, -0.92861903,\n",
       "        -0.14946571, -0.88090924,  0.99968156,  1.        ,  0.30727552],\n",
       "       [-0.14739961, -0.13677696, -0.21980834, -0.26561674, -0.2562586 ,\n",
       "         0.0911126 , -0.17976538,  0.02365997,  0.00538827, -0.02956241,\n",
       "        -0.02820855, -0.20476893,  0.32820683,  0.30727552,  1.        ]])"
      ]
     },
     "execution_count": 28,
     "metadata": {},
     "output_type": "execute_result"
    }
   ],
   "source": [
    "matrice_correlation"
   ]
  },
  {
   "cell_type": "code",
   "execution_count": 74,
   "id": "bbd365dd",
   "metadata": {},
   "outputs": [],
   "source": [
    "def valeur_vecteur_propre(matrice_correlation):\n",
    "        return np.linalg.eig(matrice_correlation)"
   ]
  },
  {
   "cell_type": "code",
   "execution_count": 82,
   "id": "5c268713",
   "metadata": {},
   "outputs": [],
   "source": [
    "valeur,vecteur = valeur_vecteur_propre(matrice_correlation)\n",
    "# valeur = np.real_if_close(valeur,tol=1000)\n",
    "# vecteur = np.real_if_close(vecteur,tol=1000)\n",
    "vecteur = np.real(vecteur)\n",
    "valeur = np.real(valeur)"
   ]
  },
  {
   "cell_type": "code",
   "execution_count": 101,
   "id": "6a59dc2a",
   "metadata": {},
   "outputs": [],
   "source": [
    "composante_principale = np.dot(matrice_centre_reduit,vecteur)"
   ]
  },
  {
   "cell_type": "code",
   "execution_count": null,
   "id": "c6242401",
   "metadata": {},
   "outputs": [],
   "source": [
    "composante_principale"
   ]
  },
  {
   "cell_type": "code",
   "execution_count": 92,
   "id": "61888763",
   "metadata": {},
   "outputs": [],
   "source": [
    "inertie_totale = sum(valeur)\n",
    "inertie_partiel = valeur/inertie_totale\n",
    "inertie_partiel[inertie_partiel<=1e-3]=1e-10"
   ]
  },
  {
   "cell_type": "code",
   "execution_count": 71,
   "id": "b9da6ac6",
   "metadata": {},
   "outputs": [],
   "source": [
    "# np.around(inertie_partiel*100,2)\n",
    "vecteur = np.real(vecteur)"
   ]
  },
  {
   "cell_type": "code",
   "execution_count": 103,
   "id": "3e45bb0c",
   "metadata": {},
   "outputs": [],
   "source": [
    "matrice_covariance_v = (1/X.shape[0])*np.dot(matrice_centre,matrice_centre.T)\n",
    "matrice_correlation_v = (1/X.shape[0])*np.dot(matrice_centre_reduit,matrice_centre_reduit.T)"
   ]
  },
  {
   "cell_type": "code",
   "execution_count": 104,
   "id": "8b27763a",
   "metadata": {},
   "outputs": [],
   "source": [
    "\n",
    "valeur_v,vecteur_v = valeur_vecteur_propre(matrice_correlation_v)"
   ]
  },
  {
   "cell_type": "code",
   "execution_count": 109,
   "id": "447bf284",
   "metadata": {},
   "outputs": [],
   "source": [
    "# composante_principale_v = np.dot(matrice_centre_reduit.T,np.dot((1/X.shape[0])*np.eye(X.shape[0]),vecteur_v))\n",
    "composante_principale_v = np.dot(matrice_centre_reduit.T,np.dot((1/X.shape[0])*np.eye(X.shape[0]),vecteur_v))"
   ]
  },
  {
   "cell_type": "code",
   "execution_count": 110,
   "id": "f773c2e3",
   "metadata": {},
   "outputs": [
    {
     "data": {
      "text/plain": [
       "array([[-1.45163916e-01,  2.28367456e-01, -1.38777878e-16,\n",
       "        -5.84350969e-02,  1.71387347e-01,  2.46280584e-01],\n",
       "       [-3.78846414e-01,  8.11762167e-02, -3.01841885e-16,\n",
       "        -9.48702934e-02, -1.74842988e-02,  8.51258472e-02],\n",
       "       [-2.72902420e-01,  3.01784805e-01,  4.30211422e-16,\n",
       "        -1.92276847e-02,  2.19239019e-02, -1.63250094e-02],\n",
       "       [ 2.14022971e-01,  1.88275601e-01, -1.52655666e-16,\n",
       "         2.35888560e-01, -1.76964804e-03, -1.72529964e-01],\n",
       "       [ 3.48275675e-01,  6.89176021e-02,  2.91433544e-16,\n",
       "         1.88179702e-01,  3.79862393e-02,  6.13720645e-02],\n",
       "       [ 3.59085559e-01, -3.15032368e-02, -2.42861287e-16,\n",
       "         1.07022402e-01,  1.47413911e-01,  5.95576907e-02],\n",
       "       [-3.87138818e-01,  2.26088593e-03, -1.52655666e-16,\n",
       "        -5.68352191e-02, -1.16317967e-01, -4.99793096e-03],\n",
       "       [ 3.26971506e-01,  2.01481604e-01,  1.17961196e-16,\n",
       "        -1.07509937e-01, -8.66312563e-02,  9.90468837e-03],\n",
       "       [ 3.25042972e-01,  1.99585128e-01,  9.57567359e-16,\n",
       "        -1.10645409e-01, -9.01164446e-02,  2.85679855e-02],\n",
       "       [-3.69120544e-01,  5.38284019e-02, -6.41847686e-17,\n",
       "         7.10634265e-02,  9.81468986e-02, -1.13297702e-01],\n",
       "       [-7.81104516e-02,  3.72574044e-01, -2.56739074e-16,\n",
       "        -5.33237211e-02,  1.74575717e-02, -1.36403151e-01],\n",
       "       [-3.93493953e-01, -6.52252193e-02,  8.32667268e-17,\n",
       "         1.74490365e-02, -8.38970686e-02, -1.52203698e-02],\n",
       "       [ 3.76626915e-01, -1.13671219e-02, -3.12250226e-16,\n",
       "        -1.49614706e-01, -4.66700142e-02, -1.12681610e-02],\n",
       "       [ 3.78471775e-01, -7.28714727e-03, -9.71445147e-17,\n",
       "        -1.44798888e-01, -4.89137964e-02, -3.66085963e-03],\n",
       "       [ 5.47676714e-02, -1.14230416e-01,  3.05311332e-16,\n",
       "        -2.72572928e-01,  2.13778423e-01, -1.74989616e-01]])"
      ]
     },
     "execution_count": 110,
     "metadata": {},
     "output_type": "execute_result"
    }
   ],
   "source": [
    "composante_principale_v"
   ]
  },
  {
   "cell_type": "code",
   "execution_count": 42,
   "id": "859caaf5",
   "metadata": {},
   "outputs": [],
   "source": [
    "import matplotlib.pyplot as plt\n",
    "from matplotlib.pyplot import plot"
   ]
  },
  {
   "cell_type": "code",
   "execution_count": 113,
   "id": "a0f702cb",
   "metadata": {},
   "outputs": [
    {
     "data": {
      "text/plain": [
       "Text(0, 0.5, 'composant 2: 17.23%')"
      ]
     },
     "execution_count": 113,
     "metadata": {},
     "output_type": "execute_result"
    },
    {
     "data": {
      "text/plain": [
       "<Figure size 2880x2880 with 0 Axes>"
      ]
     },
     "metadata": {},
     "output_type": "display_data"
    },
    {
     "data": {
      "image/png": "[encoded data removed]",
      "text/plain": [
       "<Figure size 432x288 with 1 Axes>"
      ]
     },
     "metadata": {
      "needs_background": "light"
     },
     "output_type": "display_data"
    }
   ],
   "source": [
    "plt.figure(figsize=(40.0,40))\n",
    "fig, ax = plt.subplots()\n",
    "for i in range(composante_principale.shape[0]):\n",
    "    plt.plot(composante_principale[i,0], composante_principale[i,1], 'o', markersize=8,  label=f\"I{i+1}\")\n",
    "for j in range(vecteur.shape[0]):\n",
    "    plt.quiver(0, 0,vecteur[j,0] , vecteur[j,1] , angles = 'xy', scale_units = 'xy',scale = 1,label=f\"U{j+1}\")\n",
    "ax.axhline(0.0, color='gray', linewidth=0.5)\n",
    "ax.axvline(0.0, color='gray', linewidth=0.5)\n",
    "plt.grid(True, linestyle='-.')\n",
    "plt.title('Nuage des points des individus')\n",
    "plt.legend(loc='best')\n",
    "plt.xlabel(f'composant 1: {round(inertie_partiel[0]*100,2)}%')\n",
    "plt.ylabel(f'composant 2: {round(inertie_partiel[1]*100,2)}%')"
   ]
  },
  {
   "cell_type": "code",
   "execution_count": 114,
   "id": "78a52924",
   "metadata": {},
   "outputs": [
    {
     "data": {
      "text/plain": [
       "Text(0, 0.5, 'composant 2: 17.23%')"
      ]
     },
     "execution_count": 114,
     "metadata": {},
     "output_type": "execute_result"
    },
    {
     "data": {
      "text/plain": [
       "<Figure size 2880x2880 with 0 Axes>"
      ]
     },
     "metadata": {},
     "output_type": "display_data"
    },
    {
     "data": {
      "image/png": "[encoded data removed]",
      "text/plain": [
       "<Figure size 432x288 with 1 Axes>"
      ]
     },
     "metadata": {
      "needs_background": "light"
     },
     "output_type": "display_data"
    }
   ],
   "source": [
    "plt.figure(figsize=(40.0,40))\n",
    "fig, ax = plt.subplots()\n",
    "for i in range(composante_principale_v.shape[0]):\n",
    "    plt.plot(composante_principale_v[i,0], composante_principale_v[i,1], 'x', markersize=8,  label=f\"C{i+1}\")\n",
    "for j in range(vecteur_v.shape[0]):\n",
    "    plt.quiver(0, 0,vecteur_v[j,0] , vecteur_v[j,1] ,angles = 'xy',scale_units ='xy',scale =1,label=f\"V{j+1}\")\n",
    "plt.Circle((0, 0), 1)\n",
    "ax.axhline(0.0, color='gray', linewidth=0.5)\n",
    "ax.axvline(0.0, color='gray', linewidth=0.5)\n",
    "plt.grid(True, linestyle='-.')\n",
    "plt.title('Nuage des composantes des variables')\n",
    "plt.legend(loc='best')\n",
    "plt.xlabel(f'composant 1: {round(inertie_partiel[0]*100,2)}%')\n",
    "plt.ylabel(f'composant 2: {round(inertie_partiel[1]*100,2)}%')"
   ]
  },
  {
   "cell_type": "code",
   "execution_count": null,
   "id": "48140189",
   "metadata": {},
   "outputs": [],
   "source": []
  }
 ],
 "metadata": {
  "kernelspec": {
   "display_name": "Python 3",
   "language": "python",
   "name": "python3"
  },
  "language_info": {
   "codemirror_mode": {
    "name": "ipython",
    "version": 3
   },
   "file_extension": ".py",
   "mimetype": "text/x-python",
   "name": "python",
   "nbconvert_exporter": "python",
   "pygments_lexer": "ipython3",
   "version": "3.8.8"
  }
 },
 "nbformat": 4,
 "nbformat_minor": 5
}
